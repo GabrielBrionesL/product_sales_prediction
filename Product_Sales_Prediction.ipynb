{
 "cells": [
  {
   "cell_type": "markdown",
   "metadata": {},
   "source": [
    "# Product Sales Prediction"
   ]
  },
  {
   "cell_type": "code",
   "execution_count": 19,
   "metadata": {},
   "outputs": [],
   "source": [
    "import numpy as np\n",
    "import pandas as pd\n",
    "\n",
    "from sklearn.model_selection import KFold\n",
    "from sklearn.preprocessing import OneHotEncoder, StandardScaler\n",
    "from sklearn.compose import ColumnTransformer\n",
    "from sklearn.pipeline import Pipeline\n",
    "from imblearn.over_sampling import RandomOverSampler\n",
    "\n",
    "from sklearn.ensemble import RandomForestClassifier\n",
    "\n",
    "from sklearn.metrics import accuracy_score, f1_score"
   ]
  },
  {
   "cell_type": "code",
   "execution_count": 20,
   "metadata": {},
   "outputs": [],
   "source": [
    "data = pd.read_csv('SalesKaggle3.csv')"
   ]
  },
  {
   "cell_type": "code",
   "execution_count": 21,
   "metadata": {},
   "outputs": [
    {
     "name": "stdout",
     "output_type": "stream",
     "text": [
      "<class 'pandas.core.frame.DataFrame'>\n",
      "RangeIndex: 198917 entries, 0 to 198916\n",
      "Data columns (total 14 columns):\n",
      " #   Column            Non-Null Count   Dtype  \n",
      "---  ------            --------------   -----  \n",
      " 0   Order             198917 non-null  int64  \n",
      " 1   File_Type         198917 non-null  object \n",
      " 2   SKU_number        198917 non-null  int64  \n",
      " 3   SoldFlag          75996 non-null   float64\n",
      " 4   SoldCount         75996 non-null   float64\n",
      " 5   MarketingType     198917 non-null  object \n",
      " 6   ReleaseNumber     198917 non-null  int64  \n",
      " 7   New_Release_Flag  198917 non-null  int64  \n",
      " 8   StrengthFactor    198917 non-null  float64\n",
      " 9   PriceReg          198917 non-null  float64\n",
      " 10  ReleaseYear       198917 non-null  int64  \n",
      " 11  ItemCount         198917 non-null  int64  \n",
      " 12  LowUserPrice      198917 non-null  float64\n",
      " 13  LowNetPrice       198917 non-null  float64\n",
      "dtypes: float64(6), int64(6), object(2)\n",
      "memory usage: 21.2+ MB\n"
     ]
    }
   ],
   "source": [
    "data.info()"
   ]
  },
  {
   "cell_type": "markdown",
   "metadata": {},
   "source": [
    "## Preprocessing"
   ]
  },
  {
   "cell_type": "code",
   "execution_count": 22,
   "metadata": {},
   "outputs": [],
   "source": [
    "def preprocess_inputs(df):\n",
    "    df = df.copy()\n",
    "    \n",
    "    # Only use historical data\n",
    "    df = df.query(\"File_Type == 'Historical'\")\n",
    "    \n",
    "    # Drop unused columns\n",
    "    df = df.drop(['Order', 'File_Type', 'SKU_number', 'SoldCount'], axis=1)\n",
    "    \n",
    "    # Shuffle data\n",
    "    df = df.sample(frac=1.0, random_state=1)\n",
    "    \n",
    "    # Split df into X and y\n",
    "    y = df['SoldFlag']\n",
    "    X = df.drop('SoldFlag', axis=1)\n",
    "    \n",
    "    return X, y"
   ]
  },
  {
   "cell_type": "code",
   "execution_count": 23,
   "metadata": {},
   "outputs": [],
   "source": [
    "X, y = preprocess_inputs(data)"
   ]
  },
  {
   "cell_type": "code",
   "execution_count": 24,
   "metadata": {},
   "outputs": [
    {
     "data": {
      "text/html": [
       "<div>\n",
       "<style scoped>\n",
       "    .dataframe tbody tr th:only-of-type {\n",
       "        vertical-align: middle;\n",
       "    }\n",
       "\n",
       "    .dataframe tbody tr th {\n",
       "        vertical-align: top;\n",
       "    }\n",
       "\n",
       "    .dataframe thead th {\n",
       "        text-align: right;\n",
       "    }\n",
       "</style>\n",
       "<table border=\"1\" class=\"dataframe\">\n",
       "  <thead>\n",
       "    <tr style=\"text-align: right;\">\n",
       "      <th></th>\n",
       "      <th>MarketingType</th>\n",
       "      <th>ReleaseNumber</th>\n",
       "      <th>New_Release_Flag</th>\n",
       "      <th>StrengthFactor</th>\n",
       "      <th>PriceReg</th>\n",
       "      <th>ReleaseYear</th>\n",
       "      <th>ItemCount</th>\n",
       "      <th>LowUserPrice</th>\n",
       "      <th>LowNetPrice</th>\n",
       "    </tr>\n",
       "  </thead>\n",
       "  <tbody>\n",
       "    <tr>\n",
       "      <th>37862</th>\n",
       "      <td>S</td>\n",
       "      <td>12</td>\n",
       "      <td>1</td>\n",
       "      <td>545082.0</td>\n",
       "      <td>96.67</td>\n",
       "      <td>2011</td>\n",
       "      <td>12</td>\n",
       "      <td>73.74</td>\n",
       "      <td>101.33</td>\n",
       "    </tr>\n",
       "    <tr>\n",
       "      <th>35304</th>\n",
       "      <td>S</td>\n",
       "      <td>2</td>\n",
       "      <td>1</td>\n",
       "      <td>4273940.0</td>\n",
       "      <td>58.00</td>\n",
       "      <td>2002</td>\n",
       "      <td>32</td>\n",
       "      <td>85.60</td>\n",
       "      <td>23.98</td>\n",
       "    </tr>\n",
       "    <tr>\n",
       "      <th>26138</th>\n",
       "      <td>D</td>\n",
       "      <td>9</td>\n",
       "      <td>1</td>\n",
       "      <td>165834.0</td>\n",
       "      <td>76.95</td>\n",
       "      <td>2011</td>\n",
       "      <td>48</td>\n",
       "      <td>75.57</td>\n",
       "      <td>42.67</td>\n",
       "    </tr>\n",
       "    <tr>\n",
       "      <th>52327</th>\n",
       "      <td>S</td>\n",
       "      <td>22</td>\n",
       "      <td>1</td>\n",
       "      <td>79220.0</td>\n",
       "      <td>54.25</td>\n",
       "      <td>2012</td>\n",
       "      <td>31</td>\n",
       "      <td>36.47</td>\n",
       "      <td>22.49</td>\n",
       "    </tr>\n",
       "    <tr>\n",
       "      <th>6038</th>\n",
       "      <td>D</td>\n",
       "      <td>8</td>\n",
       "      <td>1</td>\n",
       "      <td>80014.0</td>\n",
       "      <td>38.99</td>\n",
       "      <td>2008</td>\n",
       "      <td>62</td>\n",
       "      <td>153.24</td>\n",
       "      <td>69.43</td>\n",
       "    </tr>\n",
       "    <tr>\n",
       "      <th>...</th>\n",
       "      <td>...</td>\n",
       "      <td>...</td>\n",
       "      <td>...</td>\n",
       "      <td>...</td>\n",
       "      <td>...</td>\n",
       "      <td>...</td>\n",
       "      <td>...</td>\n",
       "      <td>...</td>\n",
       "      <td>...</td>\n",
       "    </tr>\n",
       "    <tr>\n",
       "      <th>20609</th>\n",
       "      <td>D</td>\n",
       "      <td>8</td>\n",
       "      <td>1</td>\n",
       "      <td>40841.0</td>\n",
       "      <td>103.24</td>\n",
       "      <td>2010</td>\n",
       "      <td>48</td>\n",
       "      <td>99.50</td>\n",
       "      <td>115.55</td>\n",
       "    </tr>\n",
       "    <tr>\n",
       "      <th>21440</th>\n",
       "      <td>D</td>\n",
       "      <td>0</td>\n",
       "      <td>0</td>\n",
       "      <td>1611172.0</td>\n",
       "      <td>86.64</td>\n",
       "      <td>2011</td>\n",
       "      <td>19</td>\n",
       "      <td>55.19</td>\n",
       "      <td>78.38</td>\n",
       "    </tr>\n",
       "    <tr>\n",
       "      <th>73349</th>\n",
       "      <td>S</td>\n",
       "      <td>2</td>\n",
       "      <td>1</td>\n",
       "      <td>1628317.0</td>\n",
       "      <td>69.99</td>\n",
       "      <td>2004</td>\n",
       "      <td>43</td>\n",
       "      <td>4.02</td>\n",
       "      <td>30.43</td>\n",
       "    </tr>\n",
       "    <tr>\n",
       "      <th>50057</th>\n",
       "      <td>S</td>\n",
       "      <td>2</td>\n",
       "      <td>1</td>\n",
       "      <td>1660915.0</td>\n",
       "      <td>44.00</td>\n",
       "      <td>2004</td>\n",
       "      <td>32</td>\n",
       "      <td>34.51</td>\n",
       "      <td>10.12</td>\n",
       "    </tr>\n",
       "    <tr>\n",
       "      <th>5192</th>\n",
       "      <td>D</td>\n",
       "      <td>2</td>\n",
       "      <td>1</td>\n",
       "      <td>1592545.0</td>\n",
       "      <td>6.18</td>\n",
       "      <td>2009</td>\n",
       "      <td>21</td>\n",
       "      <td>62.62</td>\n",
       "      <td>10.98</td>\n",
       "    </tr>\n",
       "  </tbody>\n",
       "</table>\n",
       "<p>75996 rows × 9 columns</p>\n",
       "</div>"
      ],
      "text/plain": [
       "      MarketingType  ReleaseNumber  New_Release_Flag  StrengthFactor  \\\n",
       "37862             S             12                 1        545082.0   \n",
       "35304             S              2                 1       4273940.0   \n",
       "26138             D              9                 1        165834.0   \n",
       "52327             S             22                 1         79220.0   \n",
       "6038              D              8                 1         80014.0   \n",
       "...             ...            ...               ...             ...   \n",
       "20609             D              8                 1         40841.0   \n",
       "21440             D              0                 0       1611172.0   \n",
       "73349             S              2                 1       1628317.0   \n",
       "50057             S              2                 1       1660915.0   \n",
       "5192              D              2                 1       1592545.0   \n",
       "\n",
       "       PriceReg  ReleaseYear  ItemCount  LowUserPrice  LowNetPrice  \n",
       "37862     96.67         2011         12         73.74       101.33  \n",
       "35304     58.00         2002         32         85.60        23.98  \n",
       "26138     76.95         2011         48         75.57        42.67  \n",
       "52327     54.25         2012         31         36.47        22.49  \n",
       "6038      38.99         2008         62        153.24        69.43  \n",
       "...         ...          ...        ...           ...          ...  \n",
       "20609    103.24         2010         48         99.50       115.55  \n",
       "21440     86.64         2011         19         55.19        78.38  \n",
       "73349     69.99         2004         43          4.02        30.43  \n",
       "50057     44.00         2004         32         34.51        10.12  \n",
       "5192       6.18         2009         21         62.62        10.98  \n",
       "\n",
       "[75996 rows x 9 columns]"
      ]
     },
     "execution_count": 24,
     "metadata": {},
     "output_type": "execute_result"
    }
   ],
   "source": [
    "X"
   ]
  },
  {
   "cell_type": "code",
   "execution_count": 25,
   "metadata": {},
   "outputs": [
    {
     "data": {
      "text/plain": [
       "37862    0.0\n",
       "35304    0.0\n",
       "26138    0.0\n",
       "52327    0.0\n",
       "6038     0.0\n",
       "        ... \n",
       "20609    0.0\n",
       "21440    1.0\n",
       "73349    0.0\n",
       "50057    0.0\n",
       "5192     1.0\n",
       "Name: SoldFlag, Length: 75996, dtype: float64"
      ]
     },
     "execution_count": 25,
     "metadata": {},
     "output_type": "execute_result"
    }
   ],
   "source": [
    "y"
   ]
  },
  {
   "cell_type": "markdown",
   "metadata": {},
   "source": [
    "## Build Pipeline"
   ]
  },
  {
   "cell_type": "code",
   "execution_count": 26,
   "metadata": {},
   "outputs": [],
   "source": [
    "def build_pipeline():\n",
    "    binary_transformer = Pipeline(steps=[\n",
    "        ('onehot', OneHotEncoder(drop='if_binary'))\n",
    "    ])\n",
    "    \n",
    "    nominal_transformer = Pipeline(steps=[\n",
    "        ('onehot', OneHotEncoder(handle_unknown='ignore'))\n",
    "    ])\n",
    "    \n",
    "    preprocessor = ColumnTransformer(transformers=[\n",
    "        ('binary', binary_transformer, ['MarketingType']),\n",
    "        ('nominal', nominal_transformer, ['ReleaseNumber'])\n",
    "    ], remainder='passthrough')\n",
    "    \n",
    "    model = Pipeline(steps=[\n",
    "        ('preprocessor', preprocessor),\n",
    "        ('regressor', RandomForestClassifier(random_state=1))\n",
    "    ])\n",
    "    \n",
    "    return model"
   ]
  },
  {
   "cell_type": "markdown",
   "metadata": {},
   "source": [
    "## Train/Validate"
   ]
  },
  {
   "cell_type": "code",
   "execution_count": 27,
   "metadata": {},
   "outputs": [
    {
     "name": "stdout",
     "output_type": "stream",
     "text": [
      "Accuracy: 76.87%\n",
      "F1-Score: 0.43494\n"
     ]
    }
   ],
   "source": [
    "accs = []\n",
    "f1s = []\n",
    "\n",
    "kf = KFold(n_splits=5)\n",
    "\n",
    "for train_idx, test_idx in kf.split(X):\n",
    "    X_train = X.iloc[train_idx, :]\n",
    "    X_test = X.iloc[test_idx, :]\n",
    "    y_train = y.iloc[train_idx]\n",
    "    y_test = y.iloc[test_idx]\n",
    "    \n",
    "    # Address class imbalance\n",
    "    num_samples = int(y_train.value_counts().mean())\n",
    "    majority_indices = y_train[y_train == 0.0].index\n",
    "    samples_to_drop = y_train[majority_indices].sample(len(y_train) - num_samples, random_state=1).index\n",
    "    X_train = X_train.drop(samples_to_drop, axis=0)\n",
    "    y_train = y_train.drop(samples_to_drop, axis=0)\n",
    "    oversampler = RandomOverSampler(random_state=1)\n",
    "    X_train, y_train = oversampler.fit_resample(X_train, y_train)\n",
    "    \n",
    "    model = build_pipeline()\n",
    "    model.fit(X_train, y_train)\n",
    "    \n",
    "    y_pred = model.predict(X_test)\n",
    "    \n",
    "    accs.append(accuracy_score(y_test, y_pred))\n",
    "    f1s.append(f1_score(y_test, y_pred, pos_label=1.0))\n",
    "\n",
    "acc = np.mean(accs)\n",
    "f1 = np.mean(f1s)\n",
    "\n",
    "print(\"Accuracy: {:.2f}%\".format(acc * 100))\n",
    "print(\"F1-Score: {:.5f}\".format(f1))"
   ]
  }
 ],
 "metadata": {
  "kernelspec": {
   "display_name": "pda-ie",
   "language": "python",
   "name": "python3"
  },
  "language_info": {
   "codemirror_mode": {
    "name": "ipython",
    "version": 3
   },
   "file_extension": ".py",
   "mimetype": "text/x-python",
   "name": "python",
   "nbconvert_exporter": "python",
   "pygments_lexer": "ipython3",
   "version": "3.11.7"
  }
 },
 "nbformat": 4,
 "nbformat_minor": 2
}
